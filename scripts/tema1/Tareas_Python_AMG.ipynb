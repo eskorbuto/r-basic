{
 "cells": [
  {
   "cell_type": "markdown",
   "metadata": {},
   "source": [
    "1- Escribe una secuencia de instrucciones que permitan leer un número real por pantalla y que muestre si el número es positivo o no."
   ]
  },
  {
   "cell_type": "code",
   "execution_count": 19,
   "metadata": {},
   "outputs": [],
   "source": [
    "def tarea1 ():\n",
    "    y = int(input(\"Introduce un numero real por pantalla:\"))\n",
    "    if y >= 0:\n",
    "        print(y, \" Es un numero positivo\")\n",
    "    elif y< 0:\n",
    "        print(y, \" Es un numero negativo\")\n",
    "    \n",
    "    return\n"
   ]
  },
  {
   "cell_type": "code",
   "execution_count": 22,
   "metadata": {},
   "outputs": [
    {
     "name": "stdout",
     "output_type": "stream",
     "text": [
      "Introduce un numero real por pantalla:0\n",
      "0  Es un numero positivo\n"
     ]
    }
   ],
   "source": [
    "tarea1()"
   ]
  },
  {
   "cell_type": "markdown",
   "metadata": {},
   "source": [
    "2- Escribe una secuencia de instrucciones que permitan leer un número real por pantalla y que muestre si el número está en el rango entre -5 y 5"
   ]
  },
  {
   "cell_type": "code",
   "execution_count": 36,
   "metadata": {},
   "outputs": [],
   "source": [
    "def tarea2 ():\n",
    "    y = int(input(\"Introduce un numero real por pantalla: \"))\n",
    "    if y in range(-5,5):\n",
    "        print(y, \" está en el rango entre -5 y 5\")\n",
    "    else:\n",
    "        print(y, \" está fuera de rango\")\n",
    "    return\n"
   ]
  },
  {
   "cell_type": "code",
   "execution_count": 42,
   "metadata": {},
   "outputs": [
    {
     "name": "stdout",
     "output_type": "stream",
     "text": [
      "Introduce un numero real por pantalla:-14\n",
      "-14  está fuera de rango\n"
     ]
    }
   ],
   "source": [
    "tarea2()"
   ]
  },
  {
   "cell_type": "markdown",
   "metadata": {},
   "source": [
    "3-Escribe una secuencia de instrucciones que permitan leer las coordenadas de un punto (x, y) e indique en cuál de los cuatro cuadrantes se encuentra dicho punto."
   ]
  },
  {
   "cell_type": "code",
   "execution_count": 45,
   "metadata": {},
   "outputs": [],
   "source": [
    "def tarea3 (x,y):\n",
    "    if x>0:\n",
    "        if y>0:\n",
    "            print(\"Primer cuadrante\") \n",
    "        else:\n",
    "            print(\"Cuarto cuadrante\")\n",
    "    elif x<0:\n",
    "        if y>0:\n",
    "            print(\"Segundo cuadrante\")\n",
    "        else:\n",
    "            print(\"Tercer cuadrante\")\n",
    "    return"
   ]
  },
  {
   "cell_type": "code",
   "execution_count": 46,
   "metadata": {},
   "outputs": [
    {
     "name": "stdout",
     "output_type": "stream",
     "text": [
      "Primer cuadrante\n"
     ]
    }
   ],
   "source": [
    "tarea3(1,5)"
   ]
  },
  {
   "cell_type": "code",
   "execution_count": 47,
   "metadata": {},
   "outputs": [
    {
     "name": "stdout",
     "output_type": "stream",
     "text": [
      "Segundo cuadrante\n"
     ]
    }
   ],
   "source": [
    "tarea3(-50,1)"
   ]
  },
  {
   "cell_type": "code",
   "execution_count": 48,
   "metadata": {},
   "outputs": [
    {
     "name": "stdout",
     "output_type": "stream",
     "text": [
      "Tercer cuadrante\n"
     ]
    }
   ],
   "source": [
    "tarea3(-1,-2)"
   ]
  },
  {
   "cell_type": "code",
   "execution_count": 49,
   "metadata": {},
   "outputs": [
    {
     "name": "stdout",
     "output_type": "stream",
     "text": [
      "Cuarto cuadrante\n"
     ]
    }
   ],
   "source": [
    "tarea3(30,-8)"
   ]
  },
  {
   "cell_type": "markdown",
   "metadata": {},
   "source": [
    "4- Escribe una secuencia de instrucciones que permitan leer dos números enteros y muestre el cociente de la división entera y el resto."
   ]
  },
  {
   "cell_type": "code",
   "execution_count": 67,
   "metadata": {},
   "outputs": [],
   "source": [
    "def tarea4 ():\n",
    "    import math\n",
    "    divisor = int(input(\"Introduce el divisor \"))\n",
    "    dividendo= int(input(\"Introduce el dividendo \"))\n",
    "    cociente= divisor // dividendo\n",
    "    resto= divisor % dividendo\n",
    "    print(\"El cociente de dividir\",divisor , \"entre\" ,dividendo ,\"es\",cociente , \"con un resto de\",resto)"
   ]
  },
  {
   "cell_type": "code",
   "execution_count": 68,
   "metadata": {},
   "outputs": [
    {
     "name": "stdout",
     "output_type": "stream",
     "text": [
      "Introduce el divisor10\n",
      "Introduce el dividendo3\n",
      "El cociente de dividir 10 entre 3 es 3 con un resto de 1\n"
     ]
    }
   ],
   "source": [
    "tarea4()"
   ]
  },
  {
   "cell_type": "markdown",
   "metadata": {},
   "source": [
    "5- Escribe una secuencia de instrucciones que permitan leer un número entero es cuadrado perfecto o no (piensa la mejor forma de hacerlo con lo que has aprendido hasta ahora)"
   ]
  },
  {
   "cell_type": "code",
   "execution_count": 94,
   "metadata": {},
   "outputs": [],
   "source": [
    "def tarea5 ():\n",
    "    num= int(input(\"Introduce un numero \"))\n",
    "    cua= num**0.5\n",
    "    if num % cua == 0:\n",
    "        print(num,\"Es cuadrado perfecto\")\n",
    "    else:\n",
    "        print(num,\"No es cuadrado perfecto\")"
   ]
  },
  {
   "cell_type": "code",
   "execution_count": 95,
   "metadata": {},
   "outputs": [
    {
     "name": "stdout",
     "output_type": "stream",
     "text": [
      "Introduce un numero 14\n",
      "14 No es cuadrado perfecto\n"
     ]
    }
   ],
   "source": [
    "tarea5()"
   ]
  },
  {
   "cell_type": "markdown",
   "metadata": {},
   "source": [
    "6- Escribe una expresión que permita determinar si un número entero positivo puede corresponder a un año bisiesto o no. Se consideran años bisiestos aquellos cuyo número es divisible por cuatro excepto los años que son múltiplos de 100, a no ser que lo sean de 400 (por ejemplo el año 2000 fue bisiesto pero el 2100 no lo será)."
   ]
  },
  {
   "cell_type": "code",
   "execution_count": 200,
   "metadata": {},
   "outputs": [],
   "source": [
    "def tarea6():\n",
    "    num= int(input(\"Introduce un año \"))\n",
    "    lista= list()\n",
    "    for i in range(1,5000):\n",
    "        if num %4 == 0 and num %100 != 0:\n",
    "            lista.append(int(i))\n",
    "        elif num %4 == 0 and num % 400 == 0:\n",
    "            lista.append(int(i))\n",
    "        \n",
    "    \n",
    "    if num>0 and isinstance(num,int) == True:\n",
    "        if num in lista:\n",
    "            print(\"El año\",num,\"Es bisiesto\")\n",
    "        else:\n",
    "            print(\"El año\",num,\"NO es bisiesto\")\n",
    "    else:\n",
    "        print(\"El año no es un integer o es negativo\")\n",
    "        \n",
    "    return\n"
   ]
  },
  {
   "cell_type": "code",
   "execution_count": 204,
   "metadata": {},
   "outputs": [
    {
     "name": "stdout",
     "output_type": "stream",
     "text": [
      "Introduce un año 1996\n",
      "El año 1996 Es bisiesto\n"
     ]
    }
   ],
   "source": [
    "tarea6()\n"
   ]
  },
  {
   "cell_type": "markdown",
   "metadata": {},
   "source": [
    "7- Busca la imagen de un tablero de ajedrez en Google y fíjate en la nomenclatura de las casillas. Escribe una expresión lea una letra y un número de teclado correspondiente a una casilla de un tablero de ajedrez y \n",
    "nos indique si esta casilla es negra o blanca."
   ]
  },
  {
   "cell_type": "code",
   "execution_count": 229,
   "metadata": {},
   "outputs": [],
   "source": [
    "def tarea7():\n",
    "    letra = input(\"Introduce la letra del tablero en MAYUSCULAS: \")\n",
    "    num = int(input(\"Introduce ahora el numero: \"))\n",
    "    \n",
    "    if letra ==\"A\":\n",
    "        letra=0\n",
    "    elif letra==\"B\":\n",
    "        letra=1\n",
    "    elif letra==\"C\":\n",
    "        letra=2\n",
    "    elif letra==\"D\":\n",
    "        letra=3\n",
    "    elif letra==\"E\":\n",
    "        letra=4\n",
    "    elif letra==\"F\":\n",
    "        letra=5\n",
    "    elif letra==\"G\":\n",
    "        letra=6\n",
    "    elif letra==\"H\":\n",
    "        letra=7\n",
    "    else:\n",
    "        print(\"letra incorrectos\")\n",
    "        return\n",
    "    \n",
    "    if num<1 or num>8:\n",
    "        print(\"numero incorrecto\")\n",
    "        return\n",
    "    \n",
    "    import numpy as np\n",
    "    tablero= np.ones((8,8)) #Donde los 0 seran negros y los 1 blancos\n",
    "\n",
    "    for i in range(0,8):\n",
    "        for j in range(0,8):\n",
    "            if (i+j+2) % 2 == 0:\n",
    "                tablero[i,j] = 0\n",
    "                \n",
    "    \n",
    "    if tablero[letra,num-1] == 0:\n",
    "        print(\"Casilla Negra\")\n",
    "    elif tablero[letra,num-1] == 1:\n",
    "        print(\"Casilla Blanca\")\n",
    "\n",
    "\n",
    "   "
   ]
  },
  {
   "cell_type": "code",
   "execution_count": 232,
   "metadata": {},
   "outputs": [
    {
     "name": "stdout",
     "output_type": "stream",
     "text": [
      "Introduce la letra del tablero en MAYUSCULAS: H\n",
      "Introduce ahora el numero: 9\n",
      "numero incorrecto\n"
     ]
    }
   ],
   "source": [
    "tarea7()"
   ]
  },
  {
   "cell_type": "code",
   "execution_count": null,
   "metadata": {},
   "outputs": [],
   "source": []
  }
 ],
 "metadata": {
  "kernelspec": {
   "display_name": "Python 3",
   "language": "python",
   "name": "python3"
  },
  "language_info": {
   "codemirror_mode": {
    "name": "ipython",
    "version": 3
   },
   "file_extension": ".py",
   "mimetype": "text/x-python",
   "name": "python",
   "nbconvert_exporter": "python",
   "pygments_lexer": "ipython3",
   "version": "3.7.6"
  }
 },
 "nbformat": 4,
 "nbformat_minor": 4
}
